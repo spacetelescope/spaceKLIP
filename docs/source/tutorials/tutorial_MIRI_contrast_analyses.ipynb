{
 "cells": [
  {
   "cell_type": "markdown",
   "id": "b1e41bde-7028-46d9-b856-029be37b3fd7",
   "metadata": {},
   "source": [
    "# Tutorial for MIRI Post-Pipeline Contrast Analyses Using spaceKLIP\n",
    "\n",
    "---\n",
    "\n",
    "In this notebook, you will explore the analysis of MIRI coronagraphy data from the JWST ERS program on Direct Observations of Exoplanetary Systems [Program 1386](https://www.stsci.edu/jwst/science-execution/program-information?id=1386), with a focus on the exoplanet HIP 65426 b. This tutorial provides a detailed, step-by-step guide to performing contrast analysis using the spaceKLIP pipeline. By the end of this notebook, you will gain practical experience with tools and techniques essential for analyzing MIRI coronagraphic data. This knowledge will equip you to apply these methods to similar datasets, enhancing your ability to extract meaningful results from high-contrast imaging observations.\n",
    "\n",
    "<div class=\"alert alert-warning\">\n",
    "    \n",
    "<b>Prerequisite:</b> This notebook assumes you have already run the [\"Tutorial for MIRI Coronagraphy Reduction with spaceKLIP\"](https://spaceklip.readthedocs.io/en/latest/tutorials/tutorial_MIRI_reductions.html) notebook. The output files from that reduction must be present to be analyzed in this notebook.\n",
    "\n",
    "</div>"
   ]
  },
  {
   "cell_type": "markdown",
   "id": "050295aa-046d-4b98-b090-f62abf0ffee4",
   "metadata": {},
   "source": [
    "<h1 style=\"font-size: 24px;\">Table of Contents</h1>\n",
    "\n",
    "* [1. Introduction](#Introduction)\n",
    "* [2. Setup and Imports](#Setup-and-Imports)\n",
    "* [3. Prepare for Contrast Calculations](#Prepare-for-Contrast-Calculations)\n",
    "    * [3.1 Re-read Stage 3 Outputs into Database](#Re-read-Stage-3-Outputs-into-Database)\n",
    "    * [3.2 Preparation: Stellar Photometry Model](#Preparation:-Stellar-Photometry-Model)\n",
    "    * [3.3 Prior Knowledge About the Companion](#Prior-Knowledge-About-the-Companion)\n",
    "    * [3.4 Set up Analysis Tools](#Set-up-Analysis-Tools)\n",
    "* [4. Compute Raw Contrasts](#Compute-Raw-Contrasts)\n",
    "* [5. Compute Calibrated Contrasts](#Compute-Calibrated-Contrasts)\n",
    "* [6. Extract measurements of the planet](#Extract-measurements-of-the-planet)\n"
   ]
  },
  {
   "cell_type": "markdown",
   "id": "9355568a-f9a8-4ab6-b48a-ffa3f7299ce0",
   "metadata": {
    "scrolled": true
   },
   "source": [
    "---"
   ]
  },
  {
   "cell_type": "markdown",
   "id": "654aeb80-8058-4d6f-8886-51e1df478f94",
   "metadata": {},
   "source": [
    "## Introduction\n",
    "\n",
    "A detailed introduction to contrast curves is available in the [\"Tutorial for NIRCam Coronagraphy Reduction with spaceKLIP\"](https://spaceklip.readthedocs.io/en/latest/tutorials/tutorial_NIRCam_reductions.html) notebook. Here, we jump directly into analyzing the MIRI data, delving into the nuances of these contrast curves and using them to interpret the extracted properties of the companion HIP 65426 b.\n",
    "\n"
   ]
  },
  {
   "cell_type": "markdown",
   "id": "329d50b4-52ac-4790-b6b1-b37da160ac9b",
   "metadata": {},
   "source": [
    "---"
   ]
  },
  {
   "cell_type": "markdown",
   "id": "7805e7a0",
   "metadata": {},
   "source": [
    "## Setup and Imports"
   ]
  },
  {
   "cell_type": "code",
   "execution_count": null,
   "id": "c05898da",
   "metadata": {},
   "outputs": [],
   "source": [
    "import os\n",
    "import glob\n",
    "\n",
    "import numpy as np\n",
    "import astropy\n",
    "import astropy.table\n",
    "\n",
    "import matplotlib.pyplot as plt\n",
    "\n",
    "import spaceKLIP"
   ]
  },
  {
   "cell_type": "markdown",
   "id": "809b02ab",
   "metadata": {},
   "source": [
    "Note that currently the import of `webbpsf_ext` has a side effect of configuring extra verbose logging. We're not interested in that logging text, so let's quiet it."
   ]
  },
  {
   "cell_type": "code",
   "execution_count": null,
   "id": "2af0d94a",
   "metadata": {},
   "outputs": [],
   "source": [
    "import webbpsf_ext\n",
    "webbpsf_ext.setup_logging('WARN', verbose=False)"
   ]
  },
  {
   "cell_type": "code",
   "execution_count": null,
   "id": "ebe69055",
   "metadata": {},
   "outputs": [],
   "source": [
    "# Name the root directory where we will keep the data for this tutorial.\n",
    "data_root = 'data_miri_hd65426'"
   ]
  },
  {
   "cell_type": "markdown",
   "id": "6e56eb28-3dc2-403f-b562-750760fdc620",
   "metadata": {},
   "source": [
    "---"
   ]
  },
  {
   "cell_type": "markdown",
   "id": "2fd2469a-4d93-4869-87f0-b9410dac89a3",
   "metadata": {},
   "source": [
    "## Prepare for Contrast Calculations"
   ]
  },
  {
   "cell_type": "markdown",
   "id": "dc32bde4",
   "metadata": {},
   "source": [
    "### Re-read Stage 3 Outputs into Database \n",
    "\n",
    "Read in the output files produced in the MIRI coronagraph data reduction notebook into a database.\n",
    "\n",
    "For this example, we will restrict our analysis to just one filter. This approach is sufficient for demonstration purposes and is faster than running the analysis for all filters."
   ]
  },
  {
   "cell_type": "code",
   "execution_count": null,
   "id": "d26b4279-30fb-41bf-961d-1535ba6a4ec0",
   "metadata": {},
   "outputs": [],
   "source": [
    "filt = 'F1550C'  # Set to None to disable filter selection and load all filters."
   ]
  },
  {
   "cell_type": "code",
   "execution_count": null,
   "id": "005a5693",
   "metadata": {},
   "outputs": [],
   "source": [
    "# Define the directory containing the KLIP output files.\n",
    "input_dir = os.path.join(data_root, 'klipsub')\n",
    "\n",
    "# Get a sorted list of FITS files that match the filter and KLmodes pattern.\n",
    "fitsfiles = sorted(glob.glob(os.path.join(input_dir, f\"*{filt}*KLmodes-all.fits\")))\n",
    "\n",
    "# Initialize the SpaceKLIP database with the root data directory.\n",
    "database = spaceKLIP.database.Database(output_dir=data_root)\n",
    "\n",
    "# Read the JWST data from the FITS files into the database.\n",
    "database.read_jwst_s3_data(fitsfiles)"
   ]
  },
  {
   "cell_type": "markdown",
   "id": "81179157-92b4-4667-bb2d-66676ffcee1d",
   "metadata": {},
   "source": [
    "---\n",
    "\n",
    "### Preparation: Stellar Photometry Model\n",
    "\n",
    "To accurately assess the contrast performance of our imaging system, we need a model of the target star. This model helps us compute the star’s flux in the observational filters and serves as a reference for evaluating our contrast measurements. The stellar photometry model can be provided in one of two formats: a Vizier VOTable, or a simple text file with columns giving wavelenth in microns and flux in Jy.\n",
    "\n",
    "We provide examples of both types of files, courtesy of Aarynn Carter. Only one is needed; we offer both purely as examples. These are the same files explored in greater detail in the [\"Tutorial for NIRCam Post-Pipeline Contrast Analyses Using spaceKLIP\"](https://spaceklip.readthedocs.io/en/latest/tutorials/tutorial_NIRCam_contrast_analyses.html) notebook. \n"
   ]
  },
  {
   "cell_type": "code",
   "execution_count": null,
   "id": "bb12fcba",
   "metadata": {},
   "outputs": [],
   "source": [
    "star_photometry_vot = 'HIP65426.vot'  # VOTable.\n",
    "star_photometry_txt = 'HIP65426A_sdf_phoenix_m+modbb_disk_r.txt'  # Text file.\n",
    "star_spectral_type = 'A2V'  # Spectral type."
   ]
  },
  {
   "cell_type": "markdown",
   "id": "290e3ced-cbba-4b4c-8cc2-43709b4246a8",
   "metadata": {},
   "source": [
    "---"
   ]
  },
  {
   "cell_type": "markdown",
   "id": "ed318965-aa78-4567-acd6-9b595edd0d1a",
   "metadata": {},
   "source": [
    "### Prior Knowledge About the Companion \n",
    "\n",
    "In this example, we focus on a known companion whose position and expected characteristics are already known. To ensure our contrast calculations accurately reflect the imaging system's performance, we need to mask out this known companion. This step is crucial because it prevents the known companion from affecting our contrast measurements, thereby providing a clearer picture of the system's capability to detect new, faint companions.\n",
    "\n",
    "To locate the known companion, HIP 65426 b, we can use the coordinates provided by [whereistheplanet.com](http://whereistheplanet.com/) for the observation date of August 15, 2022. According to the data:\n",
    "\n",
    "```\n",
    "RA Offset = 416.618 +/- 0.045 mas\n",
    "Dec Offset = -703.443 +/- 0.051 mas\n",
    "Separation = 817.558 +/- 0.036 mas\n",
    "PA = 149.364 +/- 0.004 deg\n",
    "Reference: Blunt et al. 2023\n",
    "```\n",
    "\n",
    "The coordinates given specify the companion's position relative to the host star, with measurements in milli-arcseconds (mas) for the right ascension (RA) and declination (Dec), as well as the separation and position angle (PA) from the star.\n",
    "\n",
    "Measuring the companion starts from an estimated contrast, which can be approximate and based on prior knowledge. "
   ]
  },
  {
   "cell_type": "code",
   "execution_count": null,
   "id": "91927d79-2558-4fdd-bbba-65217301400f",
   "metadata": {},
   "outputs": [],
   "source": [
    "comp_dra = 0.416  # arcsec\n",
    "comp_ddec = -0.703  # arcsec\n",
    "comp_est_contrast = 1e-4 # contrast ratio estimate"
   ]
  },
  {
   "cell_type": "markdown",
   "id": "d02e158e-9024-45bb-8f31-c6cfcc15c41f",
   "metadata": {},
   "source": [
    "---"
   ]
  },
  {
   "cell_type": "markdown",
   "id": "ada948ca-9e0e-480e-9659-2116a50f61eb",
   "metadata": {},
   "source": [
    "### Set up Analysis Tools\n",
    "\n",
    "In this step, we set up the necessary tools for analyzing the data. This involves initializing the `AnalysisTools` class and providing it with the database of files that will be used in the analysis. The `AnalysisTools` class in spaceKLIP provides a suite of analysis tools, allowing you to compute raw and calibrated contrast curves, inject and recover synthetic companions, and extract companion parameters directly from high-contrast imaging data."
   ]
  },
  {
   "cell_type": "code",
   "execution_count": null,
   "id": "d57f3a48",
   "metadata": {},
   "outputs": [],
   "source": [
    "# Initialize the spaceKLIP contrast estimation class.\n",
    "analysistools = spaceKLIP.analysistools.AnalysisTools(database)"
   ]
  },
  {
   "cell_type": "markdown",
   "id": "8a9ddb0e-38a9-49e3-aae1-f391b27a68f8",
   "metadata": {},
   "source": [
    "---"
   ]
  },
  {
   "cell_type": "markdown",
   "id": "459a5e37-3df8-49b5-bdcb-dac3ab1db764",
   "metadata": {},
   "source": [
    "## Compute Raw Contrasts\n",
    "\n",
    "For detailed instructions on computing the raw contrasts, please refer to the \"Compute Raw Contrasts\" section in the [\"Tutorial for NIRCam Post-Pipeline Contrast Analyses Using spaceKLIP\"](https://spaceklip.readthedocs.io/en/latest/tutorials/tutorial_NIRCam_contrast_analyses.html) notebook. \n",
    "\n",
    "The calculation of raw contrast curves iterates over all filters and datasets present in the database. If you have applied multiple reduction strategies—such as Angular Differential Imaging (ADI), Reference Differential Imaging (RDI), or combinations like ADI+RDI, or varied the number of KL modes or annuli for optimization—the raw contrast calculation will be performed separately for each strategy or configuration."
   ]
  },
  {
   "cell_type": "code",
   "execution_count": null,
   "id": "79a36bd3-28ee-411c-b16f-ec9346f1fef0",
   "metadata": {},
   "outputs": [],
   "source": [
    "# Compute raw contrast.\n",
    "analysistools.raw_contrast(\n",
    "    star_photometry_txt,  # Stellar photometry.\n",
    "    spectral_type=star_spectral_type,  # Spectral type.\n",
    "    # [RA offset (arcsec), Dec offset (arcsec), mask radius (lambda/D)].\n",
    "    companions=[[comp_dra, comp_ddec, 2.]],\n",
    "    subdir='rawcon')"
   ]
  },
  {
   "cell_type": "markdown",
   "id": "6be6f30d-21e2-4b14-816c-5450f7fe7a2f",
   "metadata": {},
   "source": [
    "The results of the raw contrast curve calculations are stored in the `rawcon` subdirectory within the main data directory. This directory contains several types of output files:\n",
    "\n",
    "* **Masked Data & Contrast Curves**: These files include visual representations of the reduced images and plots of the contrast curves. The raw contrast curves are also saved in `.npy` format, which are NumPy data dump files. **Make a note about the mask**\n",
    "\n",
    "The results should be automatically plotted when executing `raw_contrast`. To demonstrate how to access and visualize these results, we'll provide an example of how to read and plot one of these contrast curves. The results should be automatically plotted when executing `raw_contrast`.\n",
    "\n",
    "\n",
    "Additionally, we plan to migrate to saving as astropy ECSV format text files, for easy use with `astropy.table`. "
   ]
  },
  {
   "cell_type": "code",
   "execution_count": null,
   "id": "d14ceba5-3c53-4eda-a406-01a784ae7c5c",
   "metadata": {},
   "outputs": [],
   "source": [
    "# Optional: open the saved PDF files.\n",
    "!open data_miri_hd65426/rawcon/*pdf"
   ]
  },
  {
   "cell_type": "code",
   "execution_count": null,
   "id": "05150cfe-b3c5-4c8d-9cf3-11139b9406aa",
   "metadata": {},
   "outputs": [],
   "source": [
    "!ls data_miri_hd65426/rawcon/*npy"
   ]
  },
  {
   "cell_type": "markdown",
   "id": "e66d0e92-3140-4943-9a5b-9d8a4f9fa9e9",
   "metadata": {},
   "source": [
    "The PDFs of the reduced images highlight separations at 5\" and 10\" to help correlate features in the contrast curves with those in the images. The contrast curve shows a steep drop at small separations due to high residual speckle noise near the star, where diffraction and instrumental artifacts dominate. At larger separations, the curve flattens as it reaches the background- and detector-limited regimes. The \"wiggles\" in the flat region are caused by the presence of background objects.\n"
   ]
  },
  {
   "cell_type": "markdown",
   "id": "95b0aef4-9e20-4fe6-8533-48ee09fea54f",
   "metadata": {},
   "source": [
    "---"
   ]
  },
  {
   "cell_type": "markdown",
   "id": "31364e6c-1918-4406-8ef4-96f4360d2329",
   "metadata": {},
   "source": [
    "## Compute Calibrated Contrasts\n",
    "\n",
    "For detailed instructions on computing the calibrated contrasts, please refer to the \"Compute Calibrated Contrasts\" section in the [\"Tutorial for NIRCam Post-Pipeline Contrast Analyses Using spaceKLIP\"](https://spaceklip.readthedocs.io/en/latest/tutorials/tutorial_NIRCam_contrast_analyses.html) notebook. \n",
    "\n",
    "Below, we highlight several additional configurable parameters\n",
    "\n",
    "**Note**: The calibration process can take some time, depending on the number of injected companions and the subtraction strategies applied. During execution, progress bars will provide real-time updates on the status of the computation. To speed up the tutorial, we have specified a smaller number of separations and position angles (PAs) than is typically used. However, it is crucial to have enough separation sampling to understand how KLIP throughput varies with separation and sufficient PA sampling to accurately determine the median flux loss at each separation. The default values for these parameters offer a more typical use case."
   ]
  },
  {
   "cell_type": "code",
   "execution_count": null,
   "id": "5866e1ee-6994-4393-a3bb-d02b9efb978b",
   "metadata": {
    "scrolled": true
   },
   "outputs": [],
   "source": [
    "#Compute calibrated contrast.\n",
    "analysistools.calibrate_contrast(\n",
    "    rawcon_subdir='rawcon', # Directory raw contrasts are saved to.\n",
    "    # [RA offset (arcsec), Dec offset (arcsec), mask radius (lambda/D)].\n",
    "    companions=[[comp_dra, comp_ddec, 2.]],\n",
    "    injection_seps=[1, 2, 3], # arcsec\n",
    "    injection_pas=[45, 90],  # degrees\n",
    "    injection_flux_sigma=20,\n",
    "    # Spacing between injected companion, None = 1 companion per injection+recovery.\n",
    "    multi_injection_spacing=None,\n",
    "    use_saved=False,  # Useful for debugging / changing plots / sharing files.\n",
    "    subdir='calcon')  # Save directory."
   ]
  },
  {
   "cell_type": "markdown",
   "id": "a3451001-6f72-4a9e-8389-a94d231cb130",
   "metadata": {},
   "source": [
    "The results of the calibrated contrast curve calculations are stored in the `calcon` subdirectory within the main data directory. This directory contains the following output files:\n",
    "\n",
    "* **Throughput & Calibrated Contrast Curves**: These files feature visual representations of throughput correction plots and calibrated contrast curves for each PSF subtraction strategy and KL mode. One plot specifically shows the median KL mode (10 in this case) with injected companions overlaid as blue dots, where each dot represents a different separation and PA angle. The calibrated contrast curves and injected companion data are also saved as `.npy` files.\n",
    "\n",
    "The results are automatically plotted when executing `calibrate_contrast`. For an example of how to read and plot from the .npy files, refer to the demonstration above.\n",
    "\n",
    "Again, we plan to migrate to saving as astropy ECSV format text files, for easy use with `astropy.table`. "
   ]
  },
  {
   "cell_type": "markdown",
   "id": "54df0959-113a-4b2c-8ca0-36c26460b21b",
   "metadata": {},
   "source": [
    "---"
   ]
  },
  {
   "cell_type": "code",
   "execution_count": null,
   "id": "24fc27c6-e9e3-47fb-8a13-8420d4bb4519",
   "metadata": {},
   "outputs": [],
   "source": [
    "# Optional: open the saved PDF files.\n",
    "!open data_miri_hd65426/calcon/*pdf"
   ]
  },
  {
   "cell_type": "code",
   "execution_count": null,
   "id": "f7ea7b05-1611-4939-ab7c-53847cedc320",
   "metadata": {},
   "outputs": [],
   "source": [
    "!ls data_miri_hd65426/calcon/*npy"
   ]
  },
  {
   "cell_type": "markdown",
   "id": "08d19c23-be12-4fd1-bf4f-5a3762f6e920",
   "metadata": {},
   "source": [
    "---"
   ]
  },
  {
   "cell_type": "markdown",
   "id": "6756651f-65e0-4225-b5a1-64eaf13ef7fa",
   "metadata": {},
   "source": [
    "## Extract measurements of the planet\n",
    "\n",
    "Using the `extract_companions` function, we will determine the best-fit parameters for each companion in the high-contrast imaging data. This includes properties such as RA and DEC offsets from the expected position and the companion's contrast. By comparing the observed data with a model of how the companion’s light should appear, this function adjusts the model parameters to best match the observed data, taking into account the effects of image processing techniques such as KLIP.\n",
    "\n",
    "For detailed instructions on the extraction process, please refer to the \"Extract Measurements of the Planet\" section in the [\"Tutorial for NIRCam Post-Pipeline Contrast Analyses Using spaceKLIP\"](https://spaceklip.readthedocs.io/en/latest/tutorials/tutorial_NIRCam_contrast_analyses.html) notebook. \n",
    "\n",
    "Below, we highlight several configurable parameters.\n",
    "\n",
    "Plots of the final model PSF, residuals, and best-fit parameter corner plots are saved and output during the execution of `extract_companions`."
   ]
  },
  {
   "cell_type": "code",
   "execution_count": null,
   "id": "40f4533b",
   "metadata": {},
   "outputs": [],
   "source": [
    "# Values taken from model analysis of HIP 65426 photometry,\n",
    "# provided by Aarynn Carter / Grant Kennedy.\n",
    "mstar_err = {'F250M': 0.054,\n",
    "             'F300M': 0.046,\n",
    "             'F356M': 0.048,\n",
    "             'F410M': 0.051,\n",
    "             'F444W': 0.054,\n",
    "             'F1140C': 0.038,\n",
    "             'F1550C': 0.072}"
   ]
  },
  {
   "cell_type": "code",
   "execution_count": null,
   "id": "792621e7",
   "metadata": {
    "scrolled": true
   },
   "outputs": [],
   "source": [
    "# Extract companions.\n",
    "analysistools.extract_companions(\n",
    "    companions=[[comp_dra, comp_ddec, 1e-4]],  # Delta RA, Dec, contrast.\n",
    "    starfile=star_photometry_vot,  # Stellar photometry.\n",
    "    mstar_err=mstar_err,  # Stellar photometry uncertainty.\n",
    "    spectral_type=star_spectral_type,  # Spectral type.\n",
    "    highpass=False,  # Apply high-pass filter?\n",
    "    remove_background=False,  # Remove a constant background level?\n",
    "    use_fm_psf=True,  # Use FM PSF generated with pyKLIP?\n",
    "    fitmethod='mcmc',  # Sampling algorithm.\n",
    "    fitkernel='diag',  # Covariance kernel for GP regression.\n",
    "    # KL mode for companion extraction.\n",
    "    # If 'max', then the maximum possible KL mode will be used.\n",
    "    klmode='max',\n",
    "    # Grab observation date from FITS header to query for the wavefront\n",
    "    # measurement closest in time to the given date.\n",
    "    date='auto',\n",
    "    subtract=True,  # Subtract each extracted companion before next fit.\n",
    "    # Instead of fitting for a companion at guessed location/contrast,\n",
    "    # inject one into the data.\n",
    "    inject=False,\n",
    "    save_preklip=False,  # Save stage 2 files when injecting/killing a companion?\n",
    "    overwrite=True,  # Compute new FM PSF and overwrite any existing one?\n",
    "    subdir='companions'  # Output subdirectory.\n",
    ")"
   ]
  },
  {
   "cell_type": "markdown",
   "id": "c0da285c-2adf-41dd-bc34-800d90d39be7",
   "metadata": {},
   "source": [
    "The output plots provide a visual summary of the model fitting process and the derived companion parameters, offering insight into the quality of the fit and the confidence in the measurements.\n",
    "\n",
    "1. **Corner Plot (MCMC Results)**: This plot shows the parameter space explored during MCMC fitting. It includes the posterior probability distributions for each parameter (diagonal panels) and the correlations between pairs of parameters (off-diagonal panels), helping assess uncertainties, confidence intervals, and correlations.\n",
    "\n",
    "    * **x**: The fitted x-offset of the companion in pixels from the center.\n",
    "    * **y**: The fitted y-offset of the companion in pixels from the center.\n",
    "    * **α**: The flux scaling factor matching the FM to the observed data.\n",
    "    * **l**: The \"length scale\" hyperparameter of the Gaussian process covariance function. It determines the smoothness of the noise model; a larger **l** suggests slower noise variation, while a smaller **l** indicates rapid changes.\n",
    "\n",
    "2. **Best Fit Model**: These plots illustrate the model PSF fit to the data. The three panels show:\n",
    "\n",
    "    * **Observed Data**: The first panel displays the KLIP-subtracted data.\n",
    "    * **Best Fit Model**: The second panel shows the FM PSF of the companion, refined through an iterative fitting process to match the observed data best.\n",
    "    * **Residuals**: The third panel shows the differences between the observed data and the best-fit model. A flat residual plot indicates a good fit."
   ]
  },
  {
   "cell_type": "markdown",
   "id": "66b78930-edb3-4759-8543-05ffbcaa3aa3",
   "metadata": {},
   "source": [
    "Let's take a look at one of the best-fit result tables. "
   ]
  },
  {
   "cell_type": "code",
   "execution_count": null,
   "id": "36a34731-3d81-4931-8122-3ef7830f0587",
   "metadata": {},
   "outputs": [],
   "source": [
    "# Optional: open the saved PDF files.\n",
    "!open data_miri_hd65426/companions/KL50/C1/*pdf"
   ]
  },
  {
   "cell_type": "code",
   "execution_count": null,
   "id": "a0b38e7c-e307-4683-a735-71a6ec09d156",
   "metadata": {},
   "outputs": [],
   "source": [
    "# List the final result tables\n",
    "!ls data_miri_hd65426/companions/KL50/C1/*ecsv"
   ]
  },
  {
   "cell_type": "code",
   "execution_count": null,
   "id": "c70c4246-8bad-4db5-ad3a-0b9f4c12b5a9",
   "metadata": {},
   "outputs": [],
   "source": [
    "ecsv_tables = glob.glob('data_miri_hd65426/companions/KL50/C1/*ecsv')\n",
    "ecsv_table = astropy.table.Table.read(ecsv_tables[0], format='ascii.ecsv')\n",
    "ecsv_table"
   ]
  },
  {
   "cell_type": "markdown",
   "id": "6384e1d6-5a33-4167-93f4-d45c9d7984fb",
   "metadata": {},
   "source": [
    "---\n",
    "The results obtained here can be directly compared to the [JWST Early Release Science (ERS) coronagraphic observations of the super-Jupiter exoplanet HIP 65426b](https://iopscience.iop.org/article/10.3847/2041-8213/acd93e), published by Aarynn Carter et al. Specifically, we find in the tutorial an apparent magnitude (relative to Vega) of 13.794±0.1870, compared to the paper's report of 14.705±0.182. Differences can be due to various updates in the JWST pipeline (notably an update to MIRI flux calibration) and the spaceKLIP algorithm. Additionally, note that the ERS paper employs a different error analysis method. \n",
    "\n",
    "Congratulations on completing the analysis on HIP 65426 b with spaceKLIP!"
   ]
  }
 ],
 "metadata": {
  "kernelspec": {
   "display_name": "spaceklip",
   "language": "python",
   "name": "python3"
  },
  "language_info": {
   "codemirror_mode": {
    "name": "ipython",
    "version": 3
   },
   "file_extension": ".py",
   "mimetype": "text/x-python",
   "name": "python",
   "nbconvert_exporter": "python",
   "pygments_lexer": "ipython3",
   "version": "3.11.11"
  },
  "widgets": {
   "application/vnd.jupyter.widget-state+json": {
    "state": {},
    "version_major": 2,
    "version_minor": 0
   }
  }
 },
 "nbformat": 4,
 "nbformat_minor": 5
}
