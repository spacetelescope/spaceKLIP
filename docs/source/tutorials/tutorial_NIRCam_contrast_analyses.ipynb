{
 "cells": [
  {
   "cell_type": "markdown",
   "id": "edf6964e-9141-4d30-aeae-65163944afe9",
   "metadata": {},
   "source": [
    "# Tutorial for NIRCam Post-Pipeline Contrast Analyses Using spaceKLIP\n",
    "\n",
    "---\n",
    "\n",
    "In this notebook, you will explore the analysis of NIRCam coronagraphy data from the JWST ERS program on Direct Observations of Exoplanetary Systems [Program 1386](https://www.stsci.edu/jwst/science-execution/program-information?id=1386), with a focus on the exoplanet HIP 65426 b. This tutorial provides a detailed, step-by-step guide to performing contrast analysis using the spaceKLIP pipeline. By the end of this notebook, you will gain practical experience with tools and techniques essential for analyzing NIRCam coronagraphic data. This knowledge will equip you to apply these methods to similar datasets, enhancing your ability to extract meaningful results from high-contrast imaging observations.\n",
    "\n",
    "<div class=\"alert alert-warning\">\n",
    "    \n",
    "**Prerequisite**: This notebook assumes you have already run the [\"Tutorial for NIRCam Coronagraphy Reduction with spaceKLIP\"](https://spaceklip.readthedocs.io/en/latest/tutorials/tutorial_NIRCam_reductions.html) notebook. The output files from that reduction must be present to be analyzed in this notebook.\n",
    "\n",
    "</div>"
   ]
  },
  {
   "cell_type": "markdown",
   "id": "4181616c-d252-4394-a0a3-3d0240ec16d0",
   "metadata": {},
   "source": [
    "<h1 style=\"font-size: 24px;\">Table of Contents</h1>\n",
    "\n",
    "* [1. Introduction](#Introduction)\n",
    "* [2. Setup and Imports](#Setup-and-Imports)\n",
    "* [3. Prepare for Contrast Calculations](#Prepare-for-Contrast-Calculations)\n",
    "    * [3.1 Re-read Stage 3 Outputs into Database](#Re-read-Stage-3-Outputs-into-Database)\n",
    "    * [3.2 Preparation: Stellar Photometry Model](#Preparation:-Stellar-Photometry-Model)\n",
    "    * [3.3 Prior Knowledge About the Companion](#Prior-Knowledge-About-the-Companion)\n",
    "    * [3.4 Set up Analysis Tools](#Set-up-Analysis-Tools)\n",
    "* [4. Compute Raw Contrasts](#Compute-Raw-Contrasts)\n",
    "* [5. Compute Calibrated Contrasts](#Compute-Calibrated-Contrasts)\n",
    "* [6. Extract measurements of the planet](#Extract-measurements-of-the-planet)\n"
   ]
  },
  {
   "cell_type": "markdown",
   "id": "4f03430b-2bcf-4c97-85e2-1c852436c082",
   "metadata": {},
   "source": [
    "---"
   ]
  },
  {
   "cell_type": "markdown",
   "id": "7ea6cde2-56fa-4a4c-a43c-38a444d71600",
   "metadata": {},
   "source": [
    "## Introduction\n",
    "\n",
    "High-contrast imaging (HCI) is a specialized technique used to observe faint astronomical sources, such as exoplanets or circumstellar disks, at small angular separations around a bright star. In this context, \"contrast\" is defined as the flux ratio (or brightness ratio) between the faint source and the star it orbits, typically expressed as $C=\\frac{F_{\\text{source}}}{F_{\\text{star}}}$. When this ratio is small, the source is much fainter than the star, resulting in a \"high-contrast\" scenario that makes detection challenging. Conversely, a larger source-to-star ratio corresponds to \"low-contrast\" imaging, where the source is relatively brighter and easier to detect. Understanding and accurately measuring contrast is crucial for detecting faint objects and interpreting the significance of non-detections in high-contrast imaging systems. For a successful detection—or to confidently establish a non-detection—the imaging system must achieve a contrast that surpasses the detection threshold, known as the limiting contrast. This threshold is influenced by the system's sensitivity and resolution, which vary with the angular separation from the star.\n",
    "\n",
    "Limiting contrast represents the faintest detectable brightness ratio at a given distance from the star. Typically, this contrast improves (i.e., the system can detect fainter objects) as the separation from the star increases. Closer to the star, only brighter sources are detectable, while fainter sources can be observed farther away. This relationship is depicted in a contrast curve, which illustrates the system's sensitivity as a function of angular separation from the star. Contrast curves are fundamental in assessing the performance of high-contrast imaging systems, guiding both the design of observational strategies and the interpretation of results. For a reference NIRCam contrast curve, you can explore the example provided [here](https://jwst-docs.stsci.edu/methods-and-roadmaps/jwst-high-contrast-imaging/jwst-high-contrast-imaging-supporting-technical-information/hci-contrast-considerations/hci-nircam-limiting-contrast#gsc.tab=0).\n",
    "\n",
    "In this notebook, we will delve into the nuances and considerations surrounding these contrast curves and use them to interpret the extracted properties of the companion HIP 65426 b.\n",
    "\n",
    "**ADDITIONAL RESOURCES**\n",
    "\n",
    "* [HCI Overview](https://iopscience.iop.org/article/10.1088/1538-3873/aceb31#:~:text=HCI%20is%20a%20catchall%20term,the%20vicinity%20of%20bright%20stars.): A comprehensive introduction to High-Contrast Imaging."
   ]
  },
  {
   "cell_type": "markdown",
   "id": "13c72e88-b233-400e-8684-e24585d3b1f6",
   "metadata": {},
   "source": [
    "---"
   ]
  },
  {
   "cell_type": "markdown",
   "id": "0ac92a30-45d6-4bc7-b0e8-86989db7ea84",
   "metadata": {},
   "source": [
    "## Setup and Imports"
   ]
  },
  {
   "cell_type": "code",
   "execution_count": null,
   "id": "f79b23fe-9674-4116-bb8c-cf1b24143753",
   "metadata": {},
   "outputs": [],
   "source": [
    "import os\n",
    "import glob\n",
    "\n",
    "import numpy as np\n",
    "import astropy\n",
    "import astropy.table\n",
    "\n",
    "import matplotlib.pyplot as plt\n",
    "\n",
    "import spaceKLIP"
   ]
  },
  {
   "cell_type": "markdown",
   "id": "03488237-2bfd-4570-95d1-8aa3e6da997d",
   "metadata": {},
   "source": [
    "Note that currently the import of `webbpsf_ext` has a side effect of configuring extra verbose logging. We're not interested in that logging text, so let's quiet it."
   ]
  },
  {
   "cell_type": "code",
   "execution_count": null,
   "id": "8411bb05-b1ce-4c04-9a4a-c9bab65808df",
   "metadata": {},
   "outputs": [],
   "source": [
    "import webbpsf_ext\n",
    "webbpsf_ext.setup_logging('WARN', verbose=False)"
   ]
  },
  {
   "cell_type": "code",
   "execution_count": null,
   "id": "800a16af-006d-4c0b-8d6e-c54d3bbbb5cf",
   "metadata": {},
   "outputs": [],
   "source": [
    "# Name the root directory where we will keep the data for this tutorial.\n",
    "data_root = 'data_nircam_hd65426'"
   ]
  },
  {
   "cell_type": "markdown",
   "id": "589d2d08-1a60-4105-8470-ff87be7b7869",
   "metadata": {},
   "source": [
    "---"
   ]
  },
  {
   "cell_type": "markdown",
   "id": "6f1e82eb-9e22-490a-97a8-5500b5dbacd5",
   "metadata": {},
   "source": [
    "## Prepare for Contrast Calculations"
   ]
  },
  {
   "cell_type": "markdown",
   "id": "a59f580b-f030-46aa-9b6f-3a95a790bb98",
   "metadata": {},
   "source": [
    "### Re-read Stage 3 Outputs into Database \n",
    "\n",
    "Read in the output files produced in the NIRCam coronagraph data reduction notebook into a database.\n",
    "\n",
    "For this example, we will restrict our analysis to just one filter. This approach is sufficient for demonstration purposes and is faster than running the analysis for all filters."
   ]
  },
  {
   "cell_type": "code",
   "execution_count": null,
   "id": "27603047-1314-4701-8809-c6d6e7b3278b",
   "metadata": {},
   "outputs": [],
   "source": [
    "filt = 'F444W'  # Set to None to disable filter selection and load all filters."
   ]
  },
  {
   "cell_type": "code",
   "execution_count": null,
   "id": "e37a1b3c-c7a7-48d3-99d2-1d894aad8a5f",
   "metadata": {},
   "outputs": [],
   "source": [
    "# Define the directory containing the KLIP output files.\n",
    "input_dir = os.path.join(data_root, 'klipsub')\n",
    "\n",
    "# Get a sorted list of FITS files that match the filter and KLmodes pattern.\n",
    "fitsfiles = sorted(glob.glob(os.path.join(input_dir, f\"*{filt}*KLmodes-all.fits\")))\n",
    "\n",
    "# Initialize the SpaceKLIP database with the root data directory.\n",
    "database = spaceKLIP.database.Database(output_dir=data_root)\n",
    "\n",
    "# Read the JWST data from the FITS files into the database.\n",
    "database.read_jwst_s3_data(fitsfiles)"
   ]
  },
  {
   "cell_type": "markdown",
   "id": "e9ebc19d-c793-4d40-81ec-646199195f5a",
   "metadata": {},
   "source": [
    "---"
   ]
  },
  {
   "cell_type": "markdown",
   "id": "45e63fff-4da2-47c4-b7d1-5dfbf50d5eca",
   "metadata": {},
   "source": [
    "### Preparation: Stellar Photometry Model\n",
    "\n",
    "To accurately assess the contrast performance of our imaging system, we need a model of the target star. This model helps us compute the star’s flux in the observational filters and serves as a reference for evaluating our contrast measurements. The stellar photometry model can be provided in one of two formats:\n",
    "\n",
    "1. **Photometry from Vizier**: Obtain a VOTable file from [Vizier](http://vizier.cds.unistra.fr) that contains the host star's photometry data. To create your own file, visit Vizier’s [Photometry Viewer](http://vizier.cds.unistra.fr/vizier/sed/) and enter your target star's details. Be cautious during this process, as nearby sources may introduce erroneous photometry measurements that could cause unexpected variations in the flux profile. To mitigate this, you may need to reduce the search radius or manually clean the data by removing incorrect points using the available checkboxes. After refining the data, click \"Download Data\" to save a VOTable file, which can be directly imported into spaceKLIP.\n",
    "\n",
    "2. **Text File**: Alternatively, you can use a simple text file containing two columns: wavelength (in microns) and flux (in Jy). This file could be created by fitting a scaled version of a stellar atmosphere model to available photometry.\n",
    "\n",
    "We provide examples of both types of files, courtesy of Aarynn Carter. Only one is needed; we offer both purely as examples."
   ]
  },
  {
   "cell_type": "code",
   "execution_count": null,
   "id": "763491c8-0ee1-4f50-a6ba-c4c0933fc288",
   "metadata": {},
   "outputs": [],
   "source": [
    "star_photometry_vot = 'HIP65426.vot'  # VOTable.\n",
    "star_photometry_txt = 'HIP65426A_sdf_phoenix_m+modbb_disk_r.txt'  # Text file.\n",
    "star_spectral_type = 'A2V'  # Spectral type."
   ]
  },
  {
   "cell_type": "code",
   "execution_count": null,
   "id": "72e51d38-5f96-421a-aedd-1dc1165fd36c",
   "metadata": {
    "scrolled": true
   },
   "outputs": [],
   "source": [
    "# Read in the VOTable version of the star photometry data.\n",
    "vot_version = astropy.table.Table.read(star_photometry_vot)\n",
    "\n",
    "# Convert frequency to wavelength (microns) for plotting.\n",
    "vot_version[\"wavelength\"] = (astropy.constants.c / vot_version[\"sed_freq\"]).to(\n",
    "    astropy.units.micron)\n",
    "\n",
    "print(\"VOTable Version of Star Photometry Data:\")\n",
    "vot_version.to_pandas()  # For an easier to read output."
   ]
  },
  {
   "cell_type": "code",
   "execution_count": null,
   "id": "9dd58731-c5bf-4d85-8fab-a274ca3f7064",
   "metadata": {
    "scrolled": true
   },
   "outputs": [],
   "source": [
    "# Read in the TXT version of the star photometry data.\n",
    "txt_version = astropy.table.Table.read(star_photometry_txt,\n",
    "                                       format='ascii',\n",
    "                                       names=['wavelength', 'flux'])\n",
    "\n",
    "# Assign appropriate units to the columns.\n",
    "txt_version.columns['wavelength'].unit = astropy.units.micron  # Wavelength in microns.\n",
    "txt_version.columns['flux'].unit = astropy.units.Jansky        # Flux in Jansky.\n",
    "\n",
    "# Display the first few rows of the table for verification.\n",
    "print(\"TXT Version of Star Photometry Data:\")\n",
    "txt_version.to_pandas()"
   ]
  },
  {
   "cell_type": "markdown",
   "id": "34efc905-ee28-4e50-8913-a34c82c98207",
   "metadata": {},
   "source": [
    "Let's plot the Stellar Photometry Model."
   ]
  },
  {
   "cell_type": "code",
   "execution_count": null,
   "id": "428d04f4-7bf9-4351-a218-29a2b1e5c6a7",
   "metadata": {},
   "outputs": [],
   "source": [
    "plt.figure(figsize=(8, 6))\n",
    "plt.semilogx(\n",
    "    txt_version[\"wavelength\"],\n",
    "    txt_version[\"flux\"],\n",
    "    label=\"TXT: HIP65426A_sdf_phoenix_m+modbb_disk_r\",\n",
    "    color=\"C0\",\n",
    ")\n",
    "plt.scatter(\n",
    "    vot_version[\"wavelength\"],\n",
    "    vot_version[\"sed_flux\"],\n",
    "    label=\"VOTable: HIP65426.vot\",\n",
    "    color=\"C1\",\n",
    ")\n",
    "\n",
    "plt.xlabel(\"Wavelength [micron]\")\n",
    "plt.ylabel(\"Flux [Jansky]\")\n",
    "plt.legend(fontsize=10)\n",
    "\n",
    "plt.xscale(\"log\")\n",
    "plt.xlim(0.1, 10**4)\n",
    "plt.ylim(0, 7)\n",
    "plt.grid(True, linestyle=\"--\", linewidth=0.7)\n",
    "plt.title(\"Star Photometry Models\")\n",
    "\n",
    "plt.show()"
   ]
  },
  {
   "cell_type": "markdown",
   "id": "9b83fcd0-68df-45c4-a117-2f92cbe055a7",
   "metadata": {},
   "source": [
    "---"
   ]
  },
  {
   "cell_type": "markdown",
   "id": "beb075a0-9b8a-41c9-adf7-6f2c21ad3214",
   "metadata": {},
   "source": [
    "### Prior Knowledge About the Companion \n",
    "\n",
    "In this example, we focus on a known companion whose position and expected characteristics are already known. To ensure our contrast calculations accurately reflect the imaging system's performance, we need to mask out this known companion. This step is crucial because it prevents the known companion from affecting our contrast measurements, thereby providing a clearer picture of the system's capability to detect new, faint companions.\n",
    "\n",
    "To locate the known companion, HIP 65426 b, we can use the coordinates provided by [whereistheplanet.com](http://whereistheplanet.com/) for the observation date of August 15, 2022. According to the data:\n",
    "\n",
    "```\n",
    "RA Offset = 416.618 +/- 0.045 mas\n",
    "Dec Offset = -703.443 +/- 0.051 mas\n",
    "Separation = 817.558 +/- 0.036 mas\n",
    "PA = 149.364 +/- 0.004 deg\n",
    "Reference: Blunt et al. 2023\n",
    "```\n",
    "\n",
    "The coordinates given specify the companion's position relative to the host star, with measurements in milli-arcseconds (mas) for the right ascension (RA) and declination (Dec), as well as the separation and position angle (PA) from the star.\n",
    "\n",
    "Measuring the companion starts from an estimated contrast, which can be approximate and based on prior knowledge. "
   ]
  },
  {
   "cell_type": "code",
   "execution_count": null,
   "id": "25868d84-a684-418a-baee-56777470192d",
   "metadata": {},
   "outputs": [],
   "source": [
    "comp_dra = 0.416  # arcsec\n",
    "comp_ddec = -0.703  # arcsec\n",
    "comp_est_contrast = 1e-4 # contrast ratio estimate"
   ]
  },
  {
   "cell_type": "markdown",
   "id": "3d0f0354-476f-46d3-ad12-d0d158e53afc",
   "metadata": {},
   "source": [
    "---"
   ]
  },
  {
   "cell_type": "markdown",
   "id": "3845a638-a735-44d3-9ae2-deee7e804f3e",
   "metadata": {},
   "source": [
    "### Set up Analysis Tools\n",
    "\n",
    "In this step, we set up the necessary tools for analyzing the data. This involves initializing the `AnalysisTools` class and providing it with the database of files that will be used in the analysis. The `AnalysisTools` class in spaceKLIP provides a suite of analysis tools, allowing you to compute raw and calibrated contrast curves, inject and recover synthetic companions, and extract companion parameters directly from high-contrast imaging data."
   ]
  },
  {
   "cell_type": "code",
   "execution_count": null,
   "id": "ddf32a04-450e-4ed3-a45e-082c1fba6352",
   "metadata": {},
   "outputs": [],
   "source": [
    "# Initialize the spaceKLIP contrast estimation class.\n",
    "analysistools = spaceKLIP.analysistools.AnalysisTools(database)"
   ]
  },
  {
   "cell_type": "markdown",
   "id": "34a98aa3-acef-4f24-af78-caec2e96cd0b",
   "metadata": {},
   "source": [
    "---"
   ]
  },
  {
   "cell_type": "markdown",
   "id": "0ba2dcd1-4b0e-49ef-a578-299fb82f4fda",
   "metadata": {},
   "source": [
    "## Compute Raw Contrasts\n",
    "\n",
    "Raw contrast curves are essential for assessing the sensitivity of a high-contrast imaging system. These curves provide a preliminary measure of how well the system can detect faint objects relative to the brightness of the star it observes.\n",
    "\n",
    "To compute a 'raw' contrast curve:\n",
    "\n",
    "1. **Measure Image Noise**: Start by quantifying the noise in the image at various distances from the star. This involves calculating the standard deviation of pixel values within small annular regions (radial bins) centered at different separations from the star.\n",
    "\n",
    "2. **Determine Contrast Threshold**: Using the star's photometric data (`starfile`) and spectral type (`spectral_type`), model its light to establish a baseline brightness and compare it against the observed data. Explicitly, we want to estimate the flux of the star in our observational bandpass. Many contrast curves presented in the literature are reported as \"$5\\sigma$\" contrast curves. In this context, the \"$5\\sigma$\" threshold corresponds to a brightness level that is five times the standard deviation of the noise in a given annular region. This threshold represents the faintest object that can be reliably detected above the noise. Other thresholds may also be used depending on the specific requirements of the analysis.\n",
    "\n",
    "3. **Account for Coronagraph Mask Throughput**: Coronagraph throughput refers to the efficiency with which light passes through the coronagraph mask to the detector. It typically varies with both angular separation from the star and wavelength. To account for coronagraph throughput variations, the function `raw_contrast` applies a scaling factor to each location in the 2D image.\n",
    "\n",
    "    * At smaller separations, the coronagraph blocks much of the starlight but also dims some light from faint companions. This reduced throughput lowers sensitivity, as less companion light reaches the detector, while residual starlight adds noise. As a result, the contrast curve steepens near the star, where faint objects are difficult to detect.\n",
    "    * At larger separations, the coronagraph suppression decreases, allowing more light from faint companions to pass through. This improved throughput increases sensitivity, making it easier to detect faint objects.\n",
    "    * Since throughput also varies with wavelength, different filters produce different contrast curves depending on the coronagraph performance at those wavelengths.\n",
    "\n",
    "It is important to note that the raw contrast curve provides an initial estimate of sensitivity but does not fully capture the true performance of the imaging system. This is because the raw contrast curve does not correct for post-processing effects, such as those that may alter the flux of astronomical sources. To obtain a more accurate measure of sensitivity, we will compute a calibrated contrast curve in the subsequent section.\n",
    "\n",
    "The calculation of raw contrast curves iterates over all filters and datasets present in the database. If you have applied multiple reduction strategies—such as Angular Differential Imaging (ADI), Reference Differential Imaging (RDI), or combinations like ADI+RDI, or varied the number of KL modes or annuli for optimization—the raw contrast calculation will be performed separately for each strategy or configuration."
   ]
  },
  {
   "cell_type": "code",
   "execution_count": null,
   "id": "2890e6e8-edb1-423a-9449-50abf2570a8c",
   "metadata": {},
   "outputs": [],
   "source": [
    "# Compute raw contrast.\n",
    "analysistools.raw_contrast(\n",
    "    star_photometry_txt,  # Stellar photometry.\n",
    "    spectral_type=star_spectral_type,  # Spectral type.\n",
    "    # [RA offset (arcsec), Dec offset (arcsec), mask radius (lambda/D)].\n",
    "    companions=[[comp_dra, comp_ddec, 2.]],\n",
    "    subdir='rawcon')"
   ]
  },
  {
   "cell_type": "markdown",
   "id": "26a88464-82c8-4b6e-b050-bb3c6bd3edda",
   "metadata": {},
   "source": [
    "The results of the raw contrast curve calculations are stored in the `rawcon` subdirectory within the main data directory. This directory contains several types of output files:\n",
    "\n",
    "* **Masked Data & Contrast Curves**: These files include visual representations of the reduced images and plots of the contrast curves. The raw contrast curves are also saved in `.npy` format, which are NumPy data dump files.\n",
    "\n",
    "The results should be automatically plotted when executing `raw_contrast`. To demonstrate how to access and visualize these results, we'll provide an example of how to read and plot one of these contrast curves. The results should be automatically plotted when executing `raw_contrast`.\n",
    "\n",
    "\n",
    "Additionally, we plan to migrate to saving as astropy ECSV format text files, for easy use with `astropy.table`. "
   ]
  },
  {
   "cell_type": "code",
   "execution_count": null,
   "id": "a093724d-28c8-4419-a8a1-ae337dbb1f02",
   "metadata": {
    "scrolled": true
   },
   "outputs": [],
   "source": [
    "# Optional: open the saved PDF files.\n",
    "!open data_nircam_hd65426/rawcon/*pdf"
   ]
  },
  {
   "cell_type": "code",
   "execution_count": null,
   "id": "aa3adaab-f4db-4622-ad79-298c06660612",
   "metadata": {
    "scrolled": true
   },
   "outputs": [],
   "source": [
    "!ls data_nircam_hd65426/rawcon/*npy"
   ]
  },
  {
   "cell_type": "code",
   "execution_count": null,
   "id": "8ec03c02-ee92-4485-bb86-e1863d134433",
   "metadata": {},
   "outputs": [],
   "source": [
    "# Example of readining in and plotting contrast curve files.\n",
    "base_path = 'data_nircam_hd65426/rawcon/ADI+RDI_NANNU1_NSUBS1_JWST_NIRCAM_'\n",
    "suffix = 'NRCALONG_F444W_MASKRND_MASK335R_SUB320A335R-KLmodes-all_'\n",
    "\n",
    "cons = np.load(f'{base_path}{suffix}cons.npy')\n",
    "seps = np.load(f'{base_path}{suffix}seps.npy')\n",
    "masks = np.load(f'{base_path}{suffix}cons_mask.npy')\n",
    "\n",
    "plt.semilogy(seps[0], cons[0], label='Contrast, KL=1')\n",
    "plt.semilogy(seps[0], masks[0], '--',\n",
    "             label='Coronograph Throughput Corrected Contrast, KL=1')\n",
    "\n",
    "plt.xlabel(\"Separation [arcsec]\")\n",
    "plt.ylabel(\"5-σ Contrast\")\n",
    "plt.legend()\n",
    "plt.xlim(0,10)\n",
    "plt.title(\"Raw Contrast in F444W\")"
   ]
  },
  {
   "cell_type": "markdown",
   "id": "20639a1c-a56b-4979-8993-8df2fb5417f3",
   "metadata": {},
   "source": [
    "The PDFs of the reduced images highlight separations at 5\" and 10\" to help correlate features in the contrast curves with those in the images. The contrast curve shows a steep drop at small separations due to high residual speckle noise near the star, where diffraction and instrumental artifacts dominate. At larger separations, the curve flattens as it reaches the background- and detector-limited regimes. The \"wiggles\" in the flat region are caused by the presence of background objects.\n"
   ]
  },
  {
   "cell_type": "markdown",
   "id": "cf3cb9a3-d828-485e-a25b-b1cf11241a22",
   "metadata": {},
   "source": [
    "---"
   ]
  },
  {
   "cell_type": "markdown",
   "id": "54870cb6-33e8-4d60-820e-d6e9cfa2f60c",
   "metadata": {},
   "source": [
    "## Compute Calibrated Contrasts\n",
    "\n",
    "The 'calibrated' contrast curve is an advanced metric that adjusts for various artifacts and inaccuracies inherent in high-contrast imaging. Unlike the raw contrast, which simply measures noise levels, the calibrated contrast takes into account the algorithm throughout, i.e., effects of over-subtraction and self-subtraction of companions during the PSF (point spread function) subtraction process. Throughput for high-contrast imaging algorithms like KLIP are typically low close to the star due to over-subtraction, where the algorithm aggressively removes residual starlight, unintentionally suppressing the companion's signal. This effect is most pronounced near the star, where starlight dominates. At greater distances, the KLIP throughput improves (approaches 1), allowing the companion's signal to remain largely unaffected by the subtraction process. Here, we can use the `calibrate_contrast` function to compute the calibrated contrast curves.\n",
    "\n",
    "To compute the calibrated contrast, follow these steps:\n",
    "\n",
    "1. **Prerequisite**: Ensure you have completed the raw contrast calculations first. The raw contrast serves as the foundation for calibration.\n",
    "\n",
    "2. **Injection and Retrieval**: This process involves injecting simulated companion signals into the data at known separations (`injection_seps`) and position angles (`injection_pas`). The algorithm then retrieves these injected signals and applies scale factors to correct for distortions and inaccuracies introduced during PSF subtraction. The peak flux of the injected companions is determined by `injection_flux_sigma`, which is measured in sigma relative to the 1-sigma contrast at the injected separation.\n",
    "\n",
    "3. **Calibration Application**: The retrieved scale factors are used to adjust the raw contrast curves, providing a more accurate representation of the system's true sensitivity. This calibration process is iterated across different PSF subtraction strategies (such as ADI, RDI, and ADI+RDI) and for varying numbers of KL modes.\n",
    "\n",
    "Below, we highlight several additional configurable parameters\n",
    "\n",
    "**Note**: The calibration process can take some time, depending on the number of injected companions and the subtraction strategies applied. During execution, progress bars will provide real-time updates on the status of the computation. To speed up the tutorial, we have specified a smaller number of separations and position angles (PAs) than is typically used. However, it is crucial to have enough separation sampling to understand how KLIP throughput varies with separation and sufficient PA sampling to accurately determine the median flux loss at each separation. The default values for these parameters offer a more typical use case."
   ]
  },
  {
   "cell_type": "code",
   "execution_count": null,
   "id": "2c448838-81d8-4a68-b1de-7edd3f593d59",
   "metadata": {
    "scrolled": true
   },
   "outputs": [],
   "source": [
    "#Compute calibrated contrast.\n",
    "analysistools.calibrate_contrast(\n",
    "    rawcon_subdir='rawcon', # Directory raw contrasts are saved to.\n",
    "    # [RA offset (arcsec), Dec offset (arcsec), mask radius (lambda/D)].\n",
    "    companions=[[comp_dra, comp_ddec, 2.]],\n",
    "    injection_seps=[1, 2, 3], # arcsec\n",
    "    injection_pas=[45, 90],  # degrees\n",
    "    injection_flux_sigma=20,\n",
    "    # Spacing between injected companion, None = 1 companion per injection+recovery.\n",
    "    multi_injection_spacing=None,\n",
    "    use_saved=False,  # Useful for debugging / changing plots / sharing files.\n",
    "    subdir='calcon')  # Save directory."
   ]
  },
  {
   "cell_type": "markdown",
   "id": "028db37e-1811-4a6c-ae3f-c379a5c416e3",
   "metadata": {},
   "source": [
    "\n",
    "The results of the calibrated contrast curve calculations are stored in the `calcon` subdirectory within the main data directory. This directory contains the following output files:\n",
    "\n",
    "* **Throughput & Calibrated Contrast Curves**: These files feature visual representations of throughput correction plots and calibrated contrast curves for each PSF subtraction strategy and KL mode. One plot specifically shows the median KL mode (10 in this case) with injected companions overlaid as blue dots, where each dot represents a different separation and PA angle. The calibrated contrast curves and injected companion data are also saved as `.npy` files.\n",
    "\n",
    "The results are automatically plotted when executing `calibrate_contrast`. For an example of how to read and plot from the .npy files, refer to the demonstration above.\n",
    "\n",
    "Again, we plan to migrate to saving as astropy ECSV format text files, for easy use with `astropy.table`. "
   ]
  },
  {
   "cell_type": "code",
   "execution_count": null,
   "id": "dc171aae-7790-435c-b03c-875e86f54945",
   "metadata": {},
   "outputs": [],
   "source": [
    "# Optional: open the saved PDF files.\n",
    "!open data_nircam_hd65426/calcon/*pdf"
   ]
  },
  {
   "cell_type": "code",
   "execution_count": null,
   "id": "61479742-b86f-4940-bf86-e63c917a19e6",
   "metadata": {
    "scrolled": true
   },
   "outputs": [],
   "source": [
    "!ls data_nircam_hd65426/calcon/*npy"
   ]
  },
  {
   "cell_type": "markdown",
   "id": "d00b3f99-7ca6-48ef-a7cd-ced9d69d1376",
   "metadata": {},
   "source": [
    "---"
   ]
  },
  {
   "cell_type": "markdown",
   "id": "51349ea3-e3f5-4fe8-99a8-0f2dd5c26819",
   "metadata": {},
   "source": [
    "## Extract measurements of the planet\n",
    "\n",
    "Using the `extract_companions` function, we will determine the best-fit parameters for each companion in the high-contrast imaging data. This includes properties such as RA and DEC offsets from the expected position and the companion's contrast. By comparing the observed data with a model of how the companion’s light should appear, this function adjusts the model parameters to match the observed data best, taking into account the effects of image processing techniques such as KLIP.\n",
    "\n",
    "To extract measurements of the planet, follow these steps:\n",
    "\n",
    "1. **Generate Initial Model PSF**: Create a forward model (FM) of the companion's PSF using initial guesses for offset position and contrast (defined by `companions`). The host star's spectral type (as defined by `spectral_type`) and a model for the stellar photometry (`starfile`) are used to simulate a realistic PSF. This step also requires an uncertainty for the stellar photometry in Vega magnitudes, parameterized `mstar_err`. This can be either a simple scalar estimate, like 0.05, or a dictionary giving uncertainty per JWST filter. \n",
    "    * **High-pass Filter:** Apply a high-pass filter to the model and KLIP subtracted data (`highpass`) to make small-scale signals (like the planet) more prominent.\n",
    "    * **Remove Background:** Remove a constant background level from the KLIP-subtracted data before fitting the FM PSF (`remove_background`).\n",
    "    * **Incorporate KLIP Effects**: Adjust the FM PSF to account for throughput losses caused by the KLIP algorithm (`use_fm_psf`). This step ensures that the model accurately reflects how much of the companion’s signal is retained after KLIP processing.\n",
    "  \n",
    "2. **Fit the Model to the Observed Data**: The FM PSF is initially placed at the guessed location in the observed image, and its parameters (such as position and brightness) are refined to minimize the difference between the FM and the actual data. The fitting process is defined by `fitmethod`, which can use techniques like Markov Chain Monte Carlo ('mcmc') or 'nested' sampling to explore parameter values and find the best fit. Additionally, the `fitkernel` parameter specifies the covariance function used in Gaussian process regression to model noise correlations during the fitting process.\n",
    "\n",
    "3. **Iterative Refinement**: The fitting process is repeated, refining the FM PSF and companion parameters iteratively to achieve the best match between the model and the observed data.\n",
    "\n",
    "4. **Calculate and Analyze Residuals:** Compute the differences between the final model and the observed data to assess the fit quality and identify any additional companions. If there are multiple companions to fit, toggle the `subtract` parameter to subtract each extracted companion from the dataset before fitting the next one.\n",
    "\n",
    "Below, we highlight several additional configurable parameters.\n",
    "\n",
    "Plots of the final model PSF, residuals, and best-fit parameter corner plots are saved and output during the execution of `extract_companions`."
   ]
  },
  {
   "cell_type": "code",
   "execution_count": null,
   "id": "a982d95e-76fe-4051-af7f-5b6f48ea4f35",
   "metadata": {},
   "outputs": [],
   "source": [
    "# Values taken from model analysis of HIP 65426 photometry,\n",
    "# provided by Aarynn Carter / Grant Kennedy.\n",
    "mstar_err = {'F250M': 0.054,\n",
    "             'F300M': 0.046,\n",
    "             'F356M': 0.048,\n",
    "             'F410M': 0.051,\n",
    "             'F444W': 0.054,\n",
    "             'F1140C': 0.038,\n",
    "             'F1550C': 0.072}"
   ]
  },
  {
   "cell_type": "code",
   "execution_count": null,
   "id": "499a0a53-78a7-4dcb-a4bd-a8faf8fa3da3",
   "metadata": {
    "scrolled": true
   },
   "outputs": [],
   "source": [
    "# Extract companions.\n",
    "analysistools.extract_companions(\n",
    "    companions=[[comp_dra, comp_ddec, 1e-4]],  # Delta RA, Dec, contrast.\n",
    "    starfile=star_photometry_vot,  # Stellar photometry.\n",
    "    mstar_err=0.0,  # Stellar photometry uncertainty.\n",
    "    spectral_type=star_spectral_type,  # Spectral type.\n",
    "    highpass=False,  # Apply high-pass filter?\n",
    "    remove_background=False,  # Remove a constant background level?\n",
    "    use_fm_psf=True,  # Use FM PSF generated with pyKLIP?\n",
    "    fitmethod='mcmc',  # Sampling algorithm.\n",
    "    fitkernel='diag',  # Covariance kernel for GP regression.\n",
    "    # KL mode for companion extraction.\n",
    "    # If 'max', then the maximum possible KL mode will be used.\n",
    "    klmode='max',\n",
    "    # Grab observation date from FITS header to query for the wavefront\n",
    "    # measurement closest in time to the given date.\n",
    "    date='auto',\n",
    "    subtract=True,  # Subtract each extracted companion before next fit.\n",
    "    # Instead of fitting for a companion at guessed location/contrast,\n",
    "    # inject one into the data.\n",
    "    inject=False,\n",
    "    save_preklip=False,  # Save stage 2 files when injecting/killing a companion?\n",
    "    overwrite=True,  # Compute new FM PSF and overwrite any existing one?\n",
    "    subdir='companions'  # Output subdirectory.\n",
    ")"
   ]
  },
  {
   "cell_type": "markdown",
   "id": "81af0af0-42dc-4b3a-a59c-e634f5f91398",
   "metadata": {},
   "source": [
    "The output plots provide a visual summary of the model fitting process and the derived companion parameters, offering insight into the quality of the fit and the confidence in the measurements.\n",
    "\n",
    "1. **Corner Plot (MCMC Results)**: This plot shows the parameter space explored during MCMC fitting. It includes the posterior probability distributions for each parameter (diagonal panels) and the correlations between pairs of parameters (off-diagonal panels), helping assess uncertainties, confidence intervals, and correlations.\n",
    "\n",
    "    * **x**: The fitted x-offset of the companion in pixels from the center.\n",
    "    * **y**: The fitted y-offset of the companion in pixels from the center.\n",
    "    * **α**: The flux scaling factor matching the FM to the observed data.\n",
    "    * **l**: The \"length scale\" hyperparameter of the Gaussian process covariance function. It determines the smoothness of the noise model; a larger **l** suggests slower noise variation, while a smaller **l** indicates rapid changes.\n",
    "\n",
    "2. **Best Fit Model**: These plots illustrate the model PSF fit to the data. The three panels show:\n",
    "\n",
    "    * **Observed Data**: The first panel displays the KLIP-subtracted data.\n",
    "    * **Best Fit Model**: The second panel shows the FM PSF of the companion, refined through an iterative fitting process to match the observed data best.\n",
    "    * **Residuals**: The third panel shows the differences between the observed data and the best-fit model. A flat residual plot indicates a good fit."
   ]
  },
  {
   "cell_type": "markdown",
   "id": "89d00d36-b0eb-4a66-a6f5-9451ae2efbbe",
   "metadata": {},
   "source": [
    "Let's take a look at one of the best-fit result tables. "
   ]
  },
  {
   "cell_type": "code",
   "execution_count": null,
   "id": "863e3f4b-b39e-4236-b4f3-a39452192676",
   "metadata": {},
   "outputs": [],
   "source": [
    "# Optional: open the saved PDF files.\n",
    "!open data_nircam_hd65426/companions/KL50/C1/*pdf"
   ]
  },
  {
   "cell_type": "code",
   "execution_count": null,
   "id": "221e69c9-a34d-4f69-b364-94a166eabdba",
   "metadata": {},
   "outputs": [],
   "source": [
    "# List the final result tables\n",
    "!ls data_nircam_hd65426/companions/KL50/C1/*ecsv"
   ]
  },
  {
   "cell_type": "code",
   "execution_count": null,
   "id": "7cdd215b-d2e1-44e3-9644-1636051fbc67",
   "metadata": {
    "scrolled": true
   },
   "outputs": [],
   "source": [
    "ecsv_tables = glob.glob('data_nircam_hd65426/companions/KL50/C1/*ecsv')\n",
    "ecsv_table = astropy.table.Table.read(ecsv_tables[0], format='ascii.ecsv')\n",
    "ecsv_table"
   ]
  },
  {
   "cell_type": "markdown",
   "id": "69f887b8-9d95-47c5-bf5c-9c7c27e7e8af",
   "metadata": {},
   "source": [
    "---\n",
    "The results obtained here can be directly compared to the [JWST Early Release Science (ERS) coronagraphic observations of the super-Jupiter exoplanet HIP 65426b](https://iopscience.iop.org/article/10.3847/2041-8213/acd93e), published by Aarynn Carter et al. Specifically, we find in the tutorial an apparent magnitude (relative to Vega) of 15.393±0.0133, compared to the paper's report of 15.467±0.078, consistent within 1-sigma of the tutorial values. Differences can be due to various updates in the JWST pipeline and the spaceKLIP algorithm. Additionally note that the ERS paper employs a different error analysis method. \n",
    "\n",
    "Congratulations on completing the analysis on HIP 65426 b with spaceKLIP!"
   ]
  },
  {
   "cell_type": "markdown",
   "id": "8522ee5e",
   "metadata": {},
   "source": []
  }
 ],
 "metadata": {
  "kernelspec": {
   "display_name": "Python 3 (ipykernel)",
   "language": "python",
   "name": "python3"
  },
  "language_info": {
   "codemirror_mode": {
    "name": "ipython",
    "version": 3
   },
   "file_extension": ".py",
   "mimetype": "text/x-python",
   "name": "python",
   "nbconvert_exporter": "python",
   "pygments_lexer": "ipython3",
   "version": "3.11.9"
  },
  "widgets": {
   "application/vnd.jupyter.widget-state+json": {
    "state": {},
    "version_major": 2,
    "version_minor": 0
   }
  }
 },
 "nbformat": 4,
 "nbformat_minor": 5
}
